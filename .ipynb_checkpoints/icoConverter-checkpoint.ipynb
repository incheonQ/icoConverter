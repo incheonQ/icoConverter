{
 "cells": [
  {
   "cell_type": "code",
   "execution_count": 1,
   "id": "496df812",
   "metadata": {},
   "outputs": [],
   "source": [
    "from PIL import Image\n",
    "import tkinter as tk\n",
    "from tkinter import filedialog\n",
    "import os\n",
    "\n",
    "win = tk.Tk()\n",
    "win.geometry(\"500x40\")\n",
    "win.title(\"ICO Converter\")\n",
    "\n",
    "def file_select():\n",
    "    global files\n",
    "    files = filedialog.askopenfilenames(initialdir='', title='파일을 선택해주세요.')\n",
    "    # 이미지 파일이 아닐 경우 에러 메세지 추가\n",
    "    lbl_system.config(text=\"\\t [System] 변환 버튼을 눌러주세요.\")\n",
    "    btn_file_select.config(bg='#32CD32') ##32CD32 #DAA520\n",
    "        \n",
    "def convert2ico():\n",
    "    icon = Image.open(files[0])\n",
    "    icon.save(path_filename, format='ICO')\n",
    "    lbl_system.config(text=\"\\t [System] 변환이 완료되었습니다!\")\n",
    "    btn_convert2ico.config(bg='#32CD32')\n",
    "\n",
    "btn_file_select = tk.Button(win, text=\"파일 선택\", command=file_select,\n",
    "                           bg='#567', fg='White', font=('times 9 bold'),\n",
    "                           relief='raised', width=12, height=5)\n",
    "btn_file_select.pack(side='left')\n",
    "\n",
    "btn_convert2ico = tk.Button(win, text=\"변환\", command=convert2ico,\n",
    "                           bg='#567', fg='White', font=('times 9 bold'),\n",
    "                           relief='raised', width=12, height=5)\n",
    "btn_convert2ico.pack(side='left')\n",
    "\n",
    "lbl_system = tk.Label(win, text='\\t [System] 변환할 파일을 선택해주세요.', font=('times 9 bold'))\n",
    "lbl_system.pack(side='left')\n",
    "\n",
    "path = os.getcwd()\n",
    "path_filename = path+\"\\\\icon.ico\"\n",
    "\n",
    "win.mainloop()"
   ]
  },
  {
   "cell_type": "code",
   "execution_count": null,
   "id": "96c5fca7",
   "metadata": {},
   "outputs": [],
   "source": []
  }
 ],
 "metadata": {
  "kernelspec": {
   "display_name": "Python 3 (ipykernel)",
   "language": "python",
   "name": "python3"
  },
  "language_info": {
   "codemirror_mode": {
    "name": "ipython",
    "version": 3
   },
   "file_extension": ".py",
   "mimetype": "text/x-python",
   "name": "python",
   "nbconvert_exporter": "python",
   "pygments_lexer": "ipython3",
   "version": "3.9.7"
  }
 },
 "nbformat": 4,
 "nbformat_minor": 5
}
